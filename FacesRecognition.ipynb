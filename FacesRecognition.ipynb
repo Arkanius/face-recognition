{
 "cells": [
  {
   "cell_type": "code",
   "execution_count": 1,
   "metadata": {},
   "outputs": [
    {
     "name": "stdout",
     "output_type": "stream",
     "text": [
      "Requirement already satisfied: opencv-python in /home/victor/anaconda3/lib/python3.6/site-packages\n",
      "Requirement already satisfied: numpy>=1.11.3 in /home/victor/anaconda3/lib/python3.6/site-packages (from opencv-python)\n",
      "\u001b[33mYou are using pip version 9.0.1, however version 18.1 is available.\n",
      "You should consider upgrading via the 'pip install --upgrade pip' command.\u001b[0m\n"
     ]
    }
   ],
   "source": [
    "# Install OpenCV\n",
    "!pip install opencv-python"
   ]
  },
  {
   "cell_type": "code",
   "execution_count": 3,
   "metadata": {},
   "outputs": [
    {
     "data": {
      "text/plain": [
       "'3.4.4'"
      ]
     },
     "execution_count": 3,
     "metadata": {},
     "output_type": "execute_result"
    }
   ],
   "source": [
    "import cv2\n",
    "\n",
    "cv2.__version__"
   ]
  },
  {
   "cell_type": "code",
   "execution_count": 4,
   "metadata": {},
   "outputs": [
    {
     "data": {
      "text/html": [
       "<img src=\"foto.jpg\"/>"
      ],
      "text/plain": [
       "<IPython.core.display.Image object>"
      ]
     },
     "execution_count": 4,
     "metadata": {},
     "output_type": "execute_result"
    }
   ],
   "source": [
    "from IPython.display import Image\n",
    "Image(url = 'foto.jpg')\n"
   ]
  },
  {
   "cell_type": "code",
   "execution_count": 5,
   "metadata": {},
   "outputs": [
    {
     "data": {
      "text/html": [
       "<img src=\"foto2.jpg\"/>"
      ],
      "text/plain": [
       "<IPython.core.display.Image object>"
      ]
     },
     "execution_count": 5,
     "metadata": {},
     "output_type": "execute_result"
    }
   ],
   "source": [
    "Image(url = 'foto2.jpg')"
   ]
  },
  {
   "cell_type": "code",
   "execution_count": 8,
   "metadata": {},
   "outputs": [],
   "source": [
    "# Using haarcascade method\n",
    "\n",
    "params = 'haarcascade_frontalface_alt.xml'\n",
    "\n",
    "classifier = cv2.CascadeClassifier(params)\n",
    "\n",
    "image1 = cv2.imread('image1.jpg')\n",
    "image2 = cv2.imread('image2.jpg')"
   ]
  },
  {
   "cell_type": "code",
   "execution_count": 33,
   "metadata": {},
   "outputs": [
    {
     "data": {
      "text/html": [
       "<img src=\"image2Gray.jpg\"/>"
      ],
      "text/plain": [
       "<IPython.core.display.Image object>"
      ]
     },
     "execution_count": 33,
     "metadata": {},
     "output_type": "execute_result"
    }
   ],
   "source": [
    "# Converting to gray scale\n",
    "grayImage1 = cv2.cvtColor(image1, cv2.COLOR_BGR2GRAY)\n",
    "grayImage2 = cv2.cvtColor(image2, cv2.COLOR_BGR2GRAY)\n",
    "\n",
    "cv2.imwrite('image1Gray.jpg', grayImage1)\n",
    "Image(url = 'image1Gray.jpg')\n",
    "\n",
    "\n",
    "cv2.imwrite('image2Gray.jpg', grayImage2)\n",
    "Image(url = 'image2Gray.jpg')"
   ]
  },
  {
   "cell_type": "code",
   "execution_count": 21,
   "metadata": {},
   "outputs": [
    {
     "name": "stdout",
     "output_type": "stream",
     "text": [
      "<class 'numpy.ndarray'>\n",
      "[[159  49  44  44]\n",
      " [226  50  48  48]\n",
      " [847  25  50  50]\n",
      " [848 136  47  47]\n",
      " [ 61  67  49  49]\n",
      " [680  79  48  48]\n",
      " [542  44  45  45]\n",
      " [617  47  41  41]\n",
      " [294 108  45  45]\n",
      " [801 110  47  47]\n",
      " [521 113  46  46]\n",
      " [594 115  49  49]\n",
      " [177 121  47  47]\n",
      " [ 89  23  43  43]\n",
      " [560 374  50  50]\n",
      " [639 380  46  46]\n",
      " [376  36  48  48]\n",
      " [409  99  48  48]\n",
      " [311  23  52  52]\n",
      " [759 358  51  51]\n",
      " [883 373  54  54]\n",
      " [ 98 339  54  54]\n",
      " [305 360  58  58]\n",
      " [388 380  52  52]]\n"
     ]
    }
   ],
   "source": [
    "facesOfImage1 = classifier.detectMultiScale(grayImage1, scaleFactor = 1.1, minNeighbors = 10, minSize = (30,30))\n",
    "facesOfImage2 = classifier.detectMultiScale(grayImage1, scaleFactor = 1.1, minNeighbors = 10, minSize = (30,30))\n",
    "\n",
    "print(type(facesOfImage1))\n",
    "print(facesOfImage1)"
   ]
  },
  {
   "cell_type": "code",
   "execution_count": 22,
   "metadata": {},
   "outputs": [],
   "source": [
    "for(x,y, width, height) in facesOfImage1:\n",
    "    cv2.rectangle(image1, (x, y), (x+width, y+height), (0,0,255), 10)"
   ]
  },
  {
   "cell_type": "code",
   "execution_count": 24,
   "metadata": {},
   "outputs": [
    {
     "data": {
      "text/html": [
       "<img src=\"facesOfImage1Recognized.jpg\"/>"
      ],
      "text/plain": [
       "<IPython.core.display.Image object>"
      ]
     },
     "execution_count": 24,
     "metadata": {},
     "output_type": "execute_result"
    }
   ],
   "source": [
    "cv2.imwrite('facesOfImage1Recognized.jpg', image1)\n",
    "Image(url = 'facesOfImage1Recognized.jpg')"
   ]
  },
  {
   "cell_type": "code",
   "execution_count": 32,
   "metadata": {},
   "outputs": [
    {
     "data": {
      "text/html": [
       "<img src=\"facesOfImage2Recognized.jpg\"/>"
      ],
      "text/plain": [
       "<IPython.core.display.Image object>"
      ]
     },
     "execution_count": 32,
     "metadata": {},
     "output_type": "execute_result"
    }
   ],
   "source": [
    "facesOfImage2 = classifier.detectMultiScale(grayImage2, scaleFactor = 1.3, minNeighbors = 100, minSize = (50,50))\n",
    "\n",
    "for(x,y, width, height) in facesOfImage2:\n",
    "    cv2.rectangle(image2, (x, y), (x+width, y+height), (0,0,255), 150)\n",
    "    \n",
    "cv2.imwrite('facesOfImage2Recognized.jpg', image2)\n",
    "Image(url = 'facesOfImage2Recognized.jpg')"
   ]
  }
 ],
 "metadata": {
  "kernelspec": {
   "display_name": "Python 3",
   "language": "python",
   "name": "python3"
  },
  "language_info": {
   "codemirror_mode": {
    "name": "ipython",
    "version": 3
   },
   "file_extension": ".py",
   "mimetype": "text/x-python",
   "name": "python",
   "nbconvert_exporter": "python",
   "pygments_lexer": "ipython3",
   "version": "3.6.4"
  }
 },
 "nbformat": 4,
 "nbformat_minor": 2
}
